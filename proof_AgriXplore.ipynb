{
 "cells": [
  {
   "cell_type": "code",
   "execution_count": null,
   "id": "f31a8141-17eb-4c8d-9f30-2d34cd3d9fb4",
   "metadata": {},
   "outputs": [],
   "source": [
    "#!pip install streamlit"
   ]
  },
  {
   "cell_type": "code",
   "execution_count": null,
   "id": "987a8547-c608-4092-b3be-422be45ed377",
   "metadata": {},
   "outputs": [],
   "source": [
    "# Utilities\n",
    "import matplotlib.pyplot as plt\n",
    "import pandas as pd\n",
    "import getpass\n",
    "\n",
    "from sentinelhub import (\n",
    "    SHConfig,\n",
    "    DataCollection,\n",
    "    SentinelHubCatalog,\n",
    "    SentinelHubRequest,\n",
    "    SentinelHubStatistical,\n",
    "    BBox,\n",
    "    bbox_to_dimensions,\n",
    "    CRS,\n",
    "    MimeType,\n",
    "    Geometry,\n",
    ")"
   ]
  },
  {
   "cell_type": "markdown",
   "id": "414853d4-d2ef-46dd-9e2c-39de8804a93e",
   "metadata": {},
   "source": [
    "## Credentials"
   ]
  },
  {
   "cell_type": "code",
   "execution_count": null,
   "id": "6e161186-0805-4273-842c-0982772e8420",
   "metadata": {},
   "outputs": [],
   "source": [
    "# Only run this cell if you have not created a configuration.\n",
    "\n",
    "config = SHConfig()\n",
    "config.sh_client_id = getpass.getpass(\"Enter your SentinelHub client id\")\n",
    "config.sh_client_secret = getpass.getpass(\"Enter your SentinelHub client secret\")\n",
    "config.sh_token_url = \"https://identity.dataspace.copernicus.eu/auth/realms/CDSE/protocol/openid-connect/token\"\n",
    "config.sh_base_url = \"https://sh.dataspace.copernicus.eu\"\n",
    "config.save(\"cdse\")"
   ]
  },
  {
   "cell_type": "markdown",
   "id": "9c1d663e-4490-4a49-8d10-dbd456fc7266",
   "metadata": {},
   "source": [
    "## Step 1: Define the Region of Interest (ROI)"
   ]
  },
  {
   "cell_type": "code",
   "execution_count": null,
   "id": "0faffd2a-a349-4ad9-8fd7-39bb01c9bc79",
   "metadata": {},
   "outputs": [],
   "source": [
    "# Define the region of interest (ROI)\n",
    "import geopandas as gpd\n",
    "\n",
    "# Load the shapefile for the Midwest Corn Belt (Iowa/Illinois)\n",
    "corn_belt_shapefile = 'path/to/corn_belt_shapefile.shp'  # Replace with actual path\n",
    "corn_belt_roi = gpd.read_file(corn_belt_shapefile)\n",
    "\n",
    "# Display the ROI\n",
    "corn_belt_roi.plot()"
   ]
  },
  {
   "cell_type": "markdown",
   "id": "5f5a1c15-8e89-49ee-b352-ce86c86766a9",
   "metadata": {},
   "source": [
    "## Step 2: Collect and Preprocess Datasets\n",
    "1. Download Sentinel-2 NDVI Data"
   ]
  },
  {
   "cell_type": "code",
   "execution_count": null,
   "id": "72f65476-11fa-45be-8276-be59a035dd32",
   "metadata": {},
   "outputs": [],
   "source": [
    "from sentinelhub import SHConfig, BBox, CRS, MimeType, SentinelHubRequest, DataCollection\n",
    "import numpy as np\n",
    "import rasterio\n",
    "\n",
    "# Define your Sentinel Hub configuration\n",
    "#config = SHConfig()\n",
    "\n",
    "# Define the bounding box for the Corn Belt (Iowa/Illinois)\n",
    "corn_belt_bbox = BBox(bbox=[-91.5, 40.0, -88.0, 42.5], crs=CRS.WGS84)\n",
    "\n",
    "# Define the evalscript for NDVI calculation\n",
    "evalscript_ndvi = \"\"\"\n",
    "//VERSION=3\n",
    "function setup() {\n",
    "  return {\n",
    "    input: [\"B04\", \"B08\"],\n",
    "    output: { bands: 1 }\n",
    "  };\n",
    "}\n",
    "\n",
    "function evaluatePixel(sample) {\n",
    "  let ndvi = (sample.B08 - sample.B04) / (sample.B08 + sample.B04);\n",
    "  return [ndvi];\n",
    "}\n",
    "\"\"\"\n",
    "\n",
    "# Create a request for NDVI data using Sentinel-2 L2A\n",
    "ndvi_request = SentinelHubRequest(\n",
    "    evalscript=evalscript_ndvi,\n",
    "    input_data=[\n",
    "        SentinelHubRequest.input_data(\n",
    "            data_collection=DataCollection.SENTINEL2_L2A,\n",
    "            time_interval=('2022-04-01', '2022-10-01')\n",
    "        )\n",
    "    ],\n",
    "    responses=[\n",
    "        SentinelHubRequest.output_response('default', MimeType.TIFF)\n",
    "    ],\n",
    "    bbox=corn_belt_bbox,\n",
    "    size=(512, 512),\n",
    "    config=config\n",
    ")\n",
    "\n",
    "# Execute the request\n",
    "ndvi_data = ndvi_request.get_data()\n",
    "\n",
    "print(\"NDVI data has been retrieved successfully.\")"
   ]
  },
  {
   "cell_type": "markdown",
   "id": "d6216966-1ed5-4064-8e9e-403e48d68819",
   "metadata": {},
   "source": [
    "2. Download Sentinel-1 Soil Moisture Estimates"
   ]
  },
  {
   "cell_type": "code",
   "execution_count": null,
   "id": "a254093c-e32f-4465-ad97-0123c511f6c6",
   "metadata": {},
   "outputs": [],
   "source": [
    "# Create a request for Soil Moisture data from Sentinel-1\n",
    "soil_moisture_request = SentinelHubRequest(\n",
    "    data_folder='Soil_Moisture_Data',\n",
    "    data_source='S1GRD',\n",
    "    bbox=corn_belt_bbox,\n",
    "    time=('2022-04-01', '2022-10-01'),\n",
    "    width=512,\n",
    "    height=512,\n",
    "    responses=[\n",
    "        SentinelHubRequest.output_response('Soil_Moisture', MimeType.TIFF)\n",
    "    ],\n",
    "    config=config\n",
    ")\n",
    "\n",
    "# Execute the request\n",
    "soil_moisture_data = soil_moisture_request.get_data()\n"
   ]
  },
  {
   "cell_type": "markdown",
   "id": "8894382f-4eb5-4764-9c4e-7b3189b0ade6",
   "metadata": {},
   "source": [
    "3. Download GPM Rainfall Data"
   ]
  },
  {
   "cell_type": "code",
   "execution_count": null,
   "id": "e7ec3ebe-7ae0-481d-8040-495e1da4e8c9",
   "metadata": {},
   "outputs": [],
   "source": [
    "import xarray as xr\n",
    "\n",
    "# Download GPM rainfall data for the specific period\n",
    "gpm_url = 'URL_TO_GPM_DATA'  # Replace with actual GPM data URL\n",
    "gpm_data = xr.open_dataset(gpm_url)\n",
    "\n",
    "# Select relevant time and region\n",
    "rainfall_data = gpm_data.sel(time=slice('2022-04-01', '2022-10-01'))\n"
   ]
  },
  {
   "cell_type": "markdown",
   "id": "9509ce58-1f8a-49ef-823a-b2494f739635",
   "metadata": {},
   "source": [
    "4. Download MODIS Land Surface Temperature"
   ]
  },
  {
   "cell_type": "code",
   "execution_count": null,
   "id": "920e3d74-01b9-4990-a1ef-125f939a0db8",
   "metadata": {},
   "outputs": [],
   "source": [
    "modis_url = 'URL_TO_MODIS_LST_DATA'  # Replace with actual MODIS data URL\n",
    "lst_data = xr.open_dataset(modis_url)\n",
    "\n",
    "# Select relevant time and region\n",
    "temperature_data = lst_data.sel(time=slice('2022-04-01', '2022-10-01'))\n"
   ]
  },
  {
   "cell_type": "markdown",
   "id": "881c7832-da02-4883-b4da-5d1c48df530b",
   "metadata": {},
   "source": [
    "## Step 3: Water Stress Assessment"
   ]
  },
  {
   "cell_type": "code",
   "execution_count": null,
   "id": "a83e1d3a-3f32-4056-b620-a0d29a5bb641",
   "metadata": {},
   "outputs": [],
   "source": [
    "# Calculate NDVI anomalies\n",
    "ndvi_mean = np.mean(ndvi_data)\n",
    "ndvi_anomalies = ndvi_data - ndvi_mean\n",
    "\n",
    "# Overlay rainfall and soil moisture data\n",
    "import matplotlib.pyplot as plt\n",
    "\n",
    "plt.figure(figsize=(10, 6))\n",
    "plt.subplot(2, 1, 1)\n",
    "plt.plot(ndvi_anomalies, label='NDVI Anomalies')\n",
    "plt.title('NDVI Anomalies')\n",
    "plt.legend()\n",
    "\n",
    "plt.subplot(2, 1, 2)\n",
    "plt.plot(rainfall_data, label='Rainfall Data', color='orange')\n",
    "plt.title('Rainfall Data')\n",
    "plt.legend()\n",
    "\n",
    "plt.tight_layout()\n",
    "plt.show()\n"
   ]
  },
  {
   "cell_type": "markdown",
   "id": "4e3e31ca-ef86-4604-a777-c983d26f6f45",
   "metadata": {},
   "source": [
    "### Step 4: Basic Crop Yield Prediction Model"
   ]
  },
  {
   "cell_type": "code",
   "execution_count": null,
   "id": "fd6776bf-1fe4-4a08-8e1f-c290e315e68d",
   "metadata": {},
   "outputs": [],
   "source": [
    "import pandas as pd\n",
    "from sklearn.model_selection import train_test_split\n",
    "from sklearn.linear_model import LinearRegression\n",
    "\n",
    "# Historical data (assuming you have this data available)\n",
    "historical_data = {\n",
    "    'NDVI': [0.6, 0.65, 0.7, 0.75, 0.72],\n",
    "    'Rainfall': [55, 60, 45, 30, 35],  # mm\n",
    "    'SoilMoisture': [0.2, 0.25, 0.22, 0.18, 0.2],  # m³/m³\n",
    "    'Yield': [3000, 3200, 3400, 3600, 3500]  # kg/ha\n",
    "}\n",
    "\n",
    "df = pd.DataFrame(historical_data)\n",
    "\n",
    "# Train-test split\n",
    "X = df[['NDVI', 'Rainfall', 'SoilMoisture']]\n",
    "y = df['Yield']\n",
    "X_train, X_test, y_train, y_test = train_test_split(X, y, test_size=0.2, random_state=42)\n",
    "\n",
    "# Train the linear regression model\n",
    "model = LinearRegression()\n",
    "model.fit(X_train, y_train)\n",
    "\n",
    "# Predict yield based on a sample input\n",
    "predicted_yield = model.predict([[0.76, 50, 0.25]])  # Replace with forecasted values\n",
    "print(f\"Predicted Crop Yield: {predicted_yield[0]:.2f} kg/ha\")\n"
   ]
  },
  {
   "cell_type": "markdown",
   "id": "0ff47e87-051a-4981-9a0e-3167b49e986d",
   "metadata": {},
   "source": [
    "### Step 5: Dashboard Interface"
   ]
  },
  {
   "cell_type": "code",
   "execution_count": null,
   "id": "5105d835-829b-4791-b411-b04ac4b6cc18",
   "metadata": {},
   "outputs": [],
   "source": [
    "import streamlit as st\n",
    "\n",
    "# Dashboard title\n",
    "st.title('Crop Health and Yield Prediction Dashboard')\n",
    "\n",
    "# Display NDVI Time Series\n",
    "st.subheader('NDVI Time Series')\n",
    "st.line_chart(ndvi_data)\n",
    "\n",
    "# Display rainfall data\n",
    "st.subheader('Rainfall Data')\n",
    "st.line_chart(rainfall_data)\n",
    "\n",
    "# User input for predictions\n",
    "st.subheader('Predict Crop Yield')\n",
    "ndvi_input = st.number_input('Enter NDVI:', value=0.76)\n",
    "rainfall_input = st.number_input('Enter Rainfall (mm):', value=50)\n",
    "soil_moisture_input = st.number_input('Enter Soil Moisture (m³/m³):', value=0.25)\n",
    "\n",
    "# Predict button\n",
    "if st.button('Predict Yield'):\n",
    "    input_features = np.array([[ndvi_input, rainfall_input, soil_moisture_input]])\n",
    "    predicted_yield_dashboard = model.predict(input_features)\n",
    "    st.write(f\"Predicted Crop Yield: {predicted_yield_dashboard[0]:.2f} kg/ha\")\n"
   ]
  },
  {
   "cell_type": "code",
   "execution_count": null,
   "id": "0b8c00b7-1096-4174-b767-82802e64a8b8",
   "metadata": {},
   "outputs": [],
   "source": []
  }
 ],
 "metadata": {
  "kernelspec": {
   "display_name": "Sentinel Hub",
   "language": "python",
   "name": "sentinelhub"
  },
  "language_info": {
   "codemirror_mode": {
    "name": "ipython",
    "version": 3
   },
   "file_extension": ".py",
   "mimetype": "text/x-python",
   "name": "python",
   "nbconvert_exporter": "python",
   "pygments_lexer": "ipython3",
   "version": "3.10.14"
  }
 },
 "nbformat": 4,
 "nbformat_minor": 5
}
